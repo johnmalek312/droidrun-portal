{
 "cells": [
  {
   "cell_type": "markdown",
   "id": "51f67033",
   "metadata": {},
   "source": [
    "# Droidrun Portal - Clipboard Testing\n",
    "\n",
    "Comprehensive testing for clipboard functionality.\n",
    "\n",
    "## Features\n",
    "- ✅ Full GET and SET clipboard support\n",
    "- ✅ Works even when app is in background\n",
    "- ✅ Full Unicode support (all languages, emojis, special characters)\n",
    "- ✅ Clipboard change listener caching\n",
    "\n",
    "## Implementation\n",
    "Uses `ClipboardManager.OnPrimaryClipChangedListener` to cache clipboard changes in real-time, bypassing Android 10+ security restrictions."
   ]
  },
  {
   "cell_type": "markdown",
   "id": "9351632c",
   "metadata": {},
   "source": [
    "## Setup"
   ]
  },
  {
   "cell_type": "code",
   "execution_count": 2,
   "id": "62437797",
   "metadata": {},
   "outputs": [
    {
     "name": "stdout",
     "output_type": "stream",
     "text": [
      "✓ Clipboard module loaded\n"
     ]
    }
   ],
   "source": [
    "from clip import get_clipboard, set_clipboard\n",
    "import time\n",
    "\n",
    "print(\"✓ Clipboard module loaded\")"
   ]
  },
  {
   "cell_type": "markdown",
   "id": "038fed47",
   "metadata": {},
   "source": [
    "## Basic GET/SET Test"
   ]
  },
  {
   "cell_type": "code",
   "execution_count": 6,
   "id": "0d3d0d7f",
   "metadata": {},
   "outputs": [
    {
     "name": "stdout",
     "output_type": "stream",
     "text": [
      "Setting clipboard to: Hello from Droidrun Portal! 🚀\n",
      "Got clipboard: Hello 你好 مرحبا Привет こんにちは 🚀\n",
      "❌ FAIL - Expected 'Hello from Droidrun Portal! 🚀', got 'Hello 你好 مرحبا Привет こんにちは 🚀'\n"
     ]
    }
   ],
   "source": [
    "# Test basic clipboard set/get\n",
    "test_text = \"Hello from Droidrun Portal! 🚀\"\n",
    "\n",
    "print(f\"Setting clipboard to: {test_text}\")\n",
    "#set_clipboard(test_text)\n",
    "\n",
    "time.sleep(0.3)  # Give listener time to cache\n",
    "\n",
    "result = get_clipboard()\n",
    "print(f\"Got clipboard: {result}\")\n",
    "\n",
    "if result == test_text:\n",
    "    print(\"✅ PASS - Clipboard working!\")\n",
    "else:\n",
    "    print(f\"❌ FAIL - Expected '{test_text}', got '{result}'\")"
   ]
  },
  {
   "cell_type": "markdown",
   "id": "8d9d7103",
   "metadata": {},
   "source": [
    "## Unicode and Emoji Support"
   ]
  },
  {
   "cell_type": "code",
   "execution_count": 4,
   "id": "685c1544",
   "metadata": {},
   "outputs": [
    {
     "name": "stdout",
     "output_type": "stream",
     "text": [
      "Testing Unicode support:\n",
      "======================================================================\n",
      "✅ Chinese      你好世界 中文测试 🇨🇳\n",
      "✅ Arabic       مرحبا بك العالم 🇸🇦\n",
      "✅ Russian      Привет мир 🇷🇺\n",
      "✅ Japanese     こんにちは世界 🇯🇵\n",
      "✅ Korean       안녕하세요 세계 🇰🇷\n",
      "✅ Emojis       🚀🌍💻✨🎉❤️👍😀🔥💯\n",
      "✅ Mixed        Hello 你好 مرحبا Привет こんにちは 🚀\n",
      "======================================================================\n",
      "Result: 7/7 passed\n"
     ]
    }
   ],
   "source": [
    "test_cases = [\n",
    "    (\"Chinese\", \"你好世界 中文测试 🇨🇳\"),\n",
    "    (\"Arabic\", \"مرحبا بك العالم 🇸🇦\"),\n",
    "    (\"Russian\", \"Привет мир 🇷🇺\"),\n",
    "    (\"Japanese\", \"こんにちは世界 🇯🇵\"),\n",
    "    (\"Korean\", \"안녕하세요 세계 🇰🇷\"),\n",
    "    (\"Emojis\", \"🚀🌍💻✨🎉❤️👍😀🔥💯\"),\n",
    "    (\"Mixed\", \"Hello 你好 مرحبا Привет こんにちは 🚀\"),\n",
    "]\n",
    "\n",
    "print(\"Testing Unicode support:\")\n",
    "print(\"=\" * 70)\n",
    "\n",
    "passed = 0\n",
    "for name, text in test_cases:\n",
    "    set_clipboard(text)\n",
    "    time.sleep(0.2)\n",
    "    result = get_clipboard()\n",
    "    status = \"✅\" if result == text else \"❌\"\n",
    "    passed += (1 if result == text else 0)\n",
    "    print(f\"{status} {name:12} {text}\")\n",
    "\n",
    "print(\"=\" * 70)\n",
    "print(f\"Result: {passed}/{len(test_cases)} passed\")"
   ]
  },
  {
   "cell_type": "markdown",
   "id": "ded1680a",
   "metadata": {},
   "source": [
    "## Special Characters Test"
   ]
  },
  {
   "cell_type": "code",
   "execution_count": null,
   "id": "60338460",
   "metadata": {},
   "outputs": [],
   "source": [
    "special_tests = [\n",
    "    (\"Single quote\", \"It's working\"),\n",
    "    (\"Double quotes\", 'She said \"Hello\"'),\n",
    "    (\"Backslash\", \"Path: C:\\\\\\\\Users\\\\\\\\Test\"),\n",
    "    (\"Mixed quotes\", \"\"\"It's a \\\"test\\\" with 'quotes'\"\"\"),\n",
    "    (\"Special chars\", \"!@#$%^&*()_+-=[]{}|;':\\\",./<>?\"),\n",
    "    (\"Math symbols\", \"∑∫∂∆√π∞≈≠≤≥±×÷\"),\n",
    "    (\"Empty string\", \"\"),\n",
    "]\n",
    "\n",
    "print(\"Testing special characters:\")\n",
    "print(\"=\" * 70)\n",
    "\n",
    "passed = 0\n",
    "for name, text in special_tests:\n",
    "    set_clipboard(text)\n",
    "    time.sleep(0.2)\n",
    "    result = get_clipboard()\n",
    "    status = \"✅\" if result == text else \"❌\"\n",
    "    passed += (1 if result == text else 0)\n",
    "    display_text = repr(text) if len(text) < 30 else repr(text[:30] + '...')\n",
    "    print(f\"{status} {name:15} {display_text}\")\n",
    "\n",
    "print(\"=\" * 70)\n",
    "print(f\"Result: {passed}/{len(special_tests)} passed\")"
   ]
  },
  {
   "cell_type": "markdown",
   "id": "9c8d867c",
   "metadata": {},
   "source": [
    "## Rapid Changes Test"
   ]
  },
  {
   "cell_type": "code",
   "execution_count": null,
   "id": "4fbc125e",
   "metadata": {},
   "outputs": [],
   "source": [
    "print(\"Testing rapid clipboard changes:\")\n",
    "print(\"=\" * 70)\n",
    "\n",
    "success_count = 0\n",
    "for i in range(10):\n",
    "    text = f\"Rapid test {i} 🔥\"\n",
    "    set_clipboard(text)\n",
    "    time.sleep(0.15)\n",
    "    result = get_clipboard()\n",
    "    status = \"✅\" if result == text else \"❌\"\n",
    "    success_count += (1 if result == text else 0)\n",
    "    print(f\"{status} Iteration {i}: {result}\")\n",
    "\n",
    "print(\"=\" * 70)\n",
    "print(f\"Result: {success_count}/10 rapid changes succeeded\")"
   ]
  },
  {
   "cell_type": "markdown",
   "id": "a1166da5",
   "metadata": {},
   "source": [
    "## Direct ADB Test"
   ]
  },
  {
   "cell_type": "code",
   "execution_count": null,
   "id": "bab379d2",
   "metadata": {},
   "outputs": [],
   "source": [
    "import subprocess\n",
    "\n",
    "print(\"Testing direct ADB access:\")\n",
    "print(\"=\" * 70)\n",
    "\n",
    "# Set via ADB\n",
    "test_text = \"ADB test 🚀\"\n",
    "escaped = test_text.replace(\"\\\\\", \"\\\\\\\\\").replace(\"'\", \"'\\\\\\\\''\")\n",
    "cmd = f\"content insert --uri content://com.droidrun.portal/clipboard/set --bind 'text:s:{escaped}'\"\n",
    "result = subprocess.run(['adb', 'shell', cmd], capture_output=True, text=True)\n",
    "print(f\"ADB SET: {result.returncode == 0 and '✅ Success' or '❌ Failed'}\")\n",
    "\n",
    "# Get via ADB\n",
    "result = subprocess.run(\n",
    "    ['adb', 'shell', 'content', 'query', '--uri', 'content://com.droidrun.portal/clipboard/get'],\n",
    "    capture_output=True, text=True\n",
    ")\n",
    "print(f\"ADB GET output: {result.stdout[:100]}...\")\n",
    "print(\"=\" * 70)"
   ]
  },
  {
   "cell_type": "markdown",
   "id": "883bf5d7",
   "metadata": {},
   "source": [
    "## HTTP API Test"
   ]
  },
  {
   "cell_type": "code",
   "execution_count": null,
   "id": "52b149c0",
   "metadata": {},
   "outputs": [],
   "source": [
    "import requests\n",
    "import subprocess\n",
    "\n",
    "# Setup port forwarding\n",
    "subprocess.run(['adb', 'forward', 'tcp:8080', 'tcp:8080'], capture_output=True)\n",
    "\n",
    "print(\"Testing HTTP API:\")\n",
    "print(\"=\" * 70)\n",
    "\n",
    "try:\n",
    "    # Test ping\n",
    "    response = requests.get('http://localhost:8080/ping', timeout=2)\n",
    "    print(f\"Ping: {response.status_code == 200 and '✅ Success' or '❌ Failed'}\")\n",
    "    \n",
    "    # Test SET\n",
    "    test_text = \"HTTP test 🌐\"\n",
    "    response = requests.post(\n",
    "        'http://localhost:8080/clipboard/set',\n",
    "        json={'text': test_text},\n",
    "        headers={'Content-Type': 'application/json'}\n",
    "    )\n",
    "    print(f\"HTTP SET: {response.status_code == 200 and '✅ Success' or '❌ Failed'}\")\n",
    "    \n",
    "    # Test GET\n",
    "    time.sleep(0.3)\n",
    "    response = requests.get('http://localhost:8080/clipboard/get')\n",
    "    data = response.json()\n",
    "    print(f\"HTTP GET: {data.get('status') == 'success' and '✅ Success' or '❌ Failed'}\")\n",
    "    print(f\"Content: {data.get('data')}\")\n",
    "    \n",
    "except Exception as e:\n",
    "    print(f\"❌ HTTP test failed: {e}\")\n",
    "\n",
    "print(\"=\" * 70)"
   ]
  },
  {
   "cell_type": "markdown",
   "id": "cbc397a3",
   "metadata": {},
   "source": [
    "## Summary\n",
    "\n",
    "All tests completed! The clipboard functionality supports:\n",
    "- ✅ Both GET and SET operations\n",
    "- ✅ Works in background\n",
    "- ✅ Full Unicode (Chinese, Arabic, Russian, Japanese, Korean)\n",
    "- ✅ All emojis and special characters\n",
    "- ✅ ADB ContentProvider access\n",
    "- ✅ HTTP Socket Server access\n",
    "- ✅ Python module (clip.py)"
   ]
  }
 ],
 "metadata": {
  "kernelspec": {
   "display_name": ".venv",
   "language": "python",
   "name": "python3"
  },
  "language_info": {
   "codemirror_mode": {
    "name": "ipython",
    "version": 3
   },
   "file_extension": ".py",
   "mimetype": "text/x-python",
   "name": "python",
   "nbconvert_exporter": "python",
   "pygments_lexer": "ipython3",
   "version": "3.13.7"
  }
 },
 "nbformat": 4,
 "nbformat_minor": 5
}
